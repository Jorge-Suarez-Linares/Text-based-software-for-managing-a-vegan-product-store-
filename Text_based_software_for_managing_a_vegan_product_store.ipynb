{
  "nbformat": 4,
  "nbformat_minor": 0,
  "metadata": {
    "colab": {
      "provenance": []
    },
    "kernelspec": {
      "name": "python3",
      "display_name": "Python 3"
    },
    "language_info": {
      "name": "python"
    }
  },
  "cells": [
    {
      "cell_type": "code",
      "execution_count": null,
      "metadata": {
        "id": "fH8yZlXT7eUc"
      },
      "outputs": [],
      "source": [
        "import copy\n",
        "import sys\n",
        "import json\n",
        "import os"
      ]
    },
    {
      "cell_type": "code",
      "source": [
        "list_sales = []\n",
        "list_products = []\n",
        "\n",
        "\n",
        "file_path = \"products_data.txt\"\n",
        "file_path_sales = \"sales_data.txt\"\n"
      ],
      "metadata": {
        "id": "7wiuWkG97kIi"
      },
      "execution_count": null,
      "outputs": []
    },
    {
      "cell_type": "markdown",
      "source": [
        "**funzion per il file scrittura**"
      ],
      "metadata": {
        "id": "_2oEkE8KIOH5"
      }
    },
    {
      "cell_type": "code",
      "source": [
        "def save_file_warehouse(data, file_path):\n",
        "    with open(file_path, \"w\") as w_file:\n",
        "        json.dump(data, w_file)"
      ],
      "metadata": {
        "id": "ov_o3T4EIN3q"
      },
      "execution_count": null,
      "outputs": []
    },
    {
      "cell_type": "markdown",
      "source": [
        "**funzione per lettura file**"
      ],
      "metadata": {
        "id": "HNeBZc2ZITB6"
      }
    },
    {
      "cell_type": "code",
      "source": [
        " def load_file_warehouse(file_path):\n",
        "    with open(file_path, \"r\") as r_file:\n",
        "        data = json.load(r_file)"
      ],
      "metadata": {
        "id": "XV0mis2WILlg"
      },
      "execution_count": null,
      "outputs": []
    },
    {
      "cell_type": "markdown",
      "source": [
        "**funzione per l'elenco di tutti i prodotti presenti nel magazzino**"
      ],
      "metadata": {
        "id": "f9QPbE1pIjJh"
      }
    },
    {
      "cell_type": "code",
      "source": [
        " def show_products_in_warehouse():\n",
        "        print(list_products)\n",
        "        print(\"\\n\")\n",
        "        input_menu()\n"
      ],
      "metadata": {
        "id": "7BoPuZ6XIlVp"
      },
      "execution_count": null,
      "outputs": []
    },
    {
      "cell_type": "markdown",
      "source": [
        "**funzione per pulire il file**"
      ],
      "metadata": {
        "id": "W36w7EElIu1D"
      }
    },
    {
      "cell_type": "code",
      "source": [
        "with open(\"products_data.txt\", \"w\") as file:\n",
        "    file.write(\"\")\n",
        "\n",
        "list_products.clear()"
      ],
      "metadata": {
        "id": "_m2Fl35aIvqP"
      },
      "execution_count": null,
      "outputs": []
    },
    {
      "cell_type": "markdown",
      "source": [
        "**Funzione per apertura file sales**"
      ],
      "metadata": {
        "id": "syoo6j6gIxhI"
      }
    },
    {
      "cell_type": "code",
      "source": [
        "def save_file_sales(data, file_path_sales):\n",
        "    with open(file_path_sales, \"w\") as w_file:\n",
        "        json.dump(data, w_file)"
      ],
      "metadata": {
        "id": "RAVCLtkWI1eP"
      },
      "execution_count": null,
      "outputs": []
    },
    {
      "cell_type": "markdown",
      "source": [
        "Funzione per lettura sales"
      ],
      "metadata": {
        "id": "K4Nb5Ii1I2OZ"
      }
    },
    {
      "cell_type": "code",
      "source": [
        "def load_file_sales(file_path_sales):\n",
        "    with open(file_path_sales, \"r\") as r_file:\n",
        "        data = json.load(r_file)"
      ],
      "metadata": {
        "id": "304ZWN4vI4Ow"
      },
      "execution_count": null,
      "outputs": []
    },
    {
      "cell_type": "markdown",
      "source": [
        "**FUNZIONE PER L'AGGIUNTA DI UN NUOVO PRODTTO AL MAGAZZINO**"
      ],
      "metadata": {
        "id": "hx8glZ457qYh"
      }
    },
    {
      "cell_type": "code",
      "source": [
        "def input_new_product():\n",
        "    new_product = {}\n",
        "\n",
        "    new_product[\"name\"] = input(\"Enter the product name: \")\n",
        "\n",
        "    existing_product = next((p for p in list_products if p[\"name\"] == new_product[\"name\"]), None)\n",
        "\n",
        "    if existing_product:\n",
        "        while True:\n",
        "            try:\n",
        "                additional_quantity = int(input(f\"Enter the additional quantity for {new_product['name']}: \"))\n",
        "                if additional_quantity < 0:\n",
        "                    print(\"Error: Quantity must be more than 0\")\n",
        "\n",
        "                else:\n",
        "                    existing_product[\"quantity\"] += additional_quantity\n",
        "                    print(f\"Added {additional_quantity} to {new_product['name']}. Total quantity now: {existing_product['quantity']}\")\n",
        "\n",
        "                    break\n",
        "            except ValueError:\n",
        "                print(\"Error: Please enter a valid integer for quantity\")\n",
        "\n",
        "    else:\n",
        "        while True:\n",
        "            try:\n",
        "                new_product[\"quantity\"] = int(input(\"Enter the quantity: \"))\n",
        "                if new_product[\"quantity\"] < 0:\n",
        "                    print(\"Error: Quantity must be more than 0\")\n",
        "                else:\n",
        "                    break\n",
        "            except ValueError:\n",
        "                print(\"Error: Please enter a valid integer for quantity\")\n",
        "\n",
        "        while True:\n",
        "            try:\n",
        "                new_product[\"purchase_price\"] = float(input(\"Enter the purchase price: \"))\n",
        "                if new_product[\"purchase_price\"] < 0:\n",
        "                    print(\"Error: Purchase price must be more than 0\")\n",
        "                else:\n",
        "                    break\n",
        "            except ValueError:\n",
        "                print(\"Error: Please enter a valid purchase price\")\n",
        "\n",
        "        while True:\n",
        "            try:\n",
        "                new_product[\"selling_price\"] = float(input(\"Enter the selling price: \"))\n",
        "                if new_product[\"selling_price\"] < 0:\n",
        "                    print(\"Error: The selling price must be more than 0\")\n",
        "                else:\n",
        "                    break\n",
        "            except ValueError:\n",
        "                print(\"Error: Please enter a valid selling price\")\n",
        "    print(\"\\n\")\n",
        "    print(\"Product inserted:\", new_product)\n",
        "    print(\"\\n\")\n",
        "    list_products.append(new_product)\n",
        "\n",
        "    save_file_warehouse(list_products, file_path)\n",
        "    input_menu()"
      ],
      "metadata": {
        "id": "JmQDOdnA7mW1"
      },
      "execution_count": null,
      "outputs": []
    },
    {
      "cell_type": "markdown",
      "source": [
        "**FUNZIONE PER LA REGISTRAZIONE DI UNA VENDITA**"
      ],
      "metadata": {
        "id": "S2afuibJ71cz"
      }
    },
    {
      "cell_type": "code",
      "source": [
        "#quello giusto\n",
        "def input_selled_products():\n",
        "    selled_product = {}\n",
        "    selled_product[\"name\"] = input(\"Which product was sold? \")\n",
        "    warehouse_research = search_product_warehouse(selled_product[\"name\"])\n",
        "    if not warehouse_research:\n",
        "        print(\"Error: Product not found in the warehouse.\")\n",
        "        return\n",
        "\n",
        "    while True:\n",
        "        try:\n",
        "            selled_product[\"quantity\"] = int(input(\"How many have been sold? \"))\n",
        "            if selled_product[\"quantity\"] < 0:\n",
        "                print(\"Error: Quantity must be more than 0\")\n",
        "                print(\"\\n\")\n",
        "            else:\n",
        "                break\n",
        "        except ValueError:\n",
        "            print(\"Error: Please enter a valid quantity\")\n",
        "            print(\"\\n\")\n",
        "\n",
        "    update_warehouse = update_product_warehouse(selled_product[\"name\"], selled_product[\"quantity\"])\n",
        "    sales_record(selled_product[\"name\"], selled_product[\"quantity\"])\n",
        "    list_sales.append(selled_product)\n",
        "    save_file_sales(list_sales, file_path_sales)\n",
        "    input_menu()"
      ],
      "metadata": {
        "id": "scIzXXERKgOh"
      },
      "execution_count": null,
      "outputs": []
    },
    {
      "cell_type": "code",
      "source": [
        "def input_selled_products():\n",
        "\n",
        "    selled_product = {}\n",
        "    selled_product[\"name\"] = input(\"Wich product was sold? \")\n",
        "    warehouse_research = search_product_warehouse(selled_product[\"name\"])\n",
        "    while True:\n",
        "        try:\n",
        "            selled_product[\"quantity\"] = int(input(\"How many have been sold? \"))\n",
        "            if selled_product[\"quantity\"] < 0:\n",
        "                print(\"Error: Enter must be more than 0\")\n",
        "                print(\"\\n\")\n",
        "            else:\n",
        "                break\n",
        "        except ValueError:\n",
        "            print(\"Error: Please enter a valid selling price\")\n",
        "            print(\"\\n\")\n",
        "\n",
        "        if warehouse_research:\n",
        "              update_warehouse = update_product_warehouse(selled_product[\"name\"], selled_product[\"quantity\"])\n",
        "        sales_record(selled_product[\"name\"], selled_product[\"quantity\"])\n",
        "        list_sales.append(selled_product)\n",
        "        save_file_sales(list_sales,file_path_sales)\n",
        "        input_menu()"
      ],
      "metadata": {
        "id": "xwJajOZL72RV"
      },
      "execution_count": null,
      "outputs": []
    },
    {
      "cell_type": "markdown",
      "source": [
        "**funzione di ricerca nome nel magazzino**"
      ],
      "metadata": {
        "id": "XklDJgpu74x8"
      }
    },
    {
      "cell_type": "code",
      "source": [
        "def search_product_warehouse(product_name):\n",
        "\n",
        "\n",
        "    for product in list_products:\n",
        "        if product[\"name\"] == product_name:\n",
        "            print(\"The product is on the warehouse \")\n",
        "            print(\"\\n\")\n",
        "\n",
        "\n",
        "            return True\n",
        "        else:\n",
        "            print(\"This product is not on the warehouse \")\n",
        "            print(\"\\n\")\n",
        "            return False\n",
        "\n",
        "    input_menu()\n"
      ],
      "metadata": {
        "id": "hdBCi9Un8F02"
      },
      "execution_count": null,
      "outputs": []
    },
    {
      "cell_type": "markdown",
      "source": [
        "**FUNZIONE PER LA GESTIONE DELLA QUANTITA DEI PRODOTTI**"
      ],
      "metadata": {
        "id": "s9KG1KWi8PUk"
      }
    },
    {
      "cell_type": "code",
      "source": [
        "def update_product_warehouse(sold_name, sold_quantity):\n",
        "\n",
        "    for product in list_products:\n",
        "\n",
        "        if product[\"name\"] == sold_name:\n",
        "            if product[\"quantity\"] >= sold_quantity:\n",
        "                product[\"quantity\"] = product[\"quantity\"] - sold_quantity\n",
        "                print(f\"Now on the warehouse remain {product['name']:} : {product['quantity']}\")\n",
        "                print(\"\\n\")\n",
        "                return True\n",
        "            else:\n",
        "                 print(f\" There are not enough product to sell. You have this quantity: {product['quantity']}\" )\n",
        "                 return False\n",
        "\n",
        "\n",
        "    input_menu()"
      ],
      "metadata": {
        "id": "zlryJ-m_8QL6"
      },
      "execution_count": null,
      "outputs": []
    },
    {
      "cell_type": "markdown",
      "source": [
        "**Funzione per registrare le vendite nella lista vendite**"
      ],
      "metadata": {
        "id": "fLHTDKYG8S0o"
      }
    },
    {
      "cell_type": "code",
      "source": [
        "def sales_record(x_name, x_quantity):\n",
        "    sale = {\"name\": x_name, \"quantity\": x_quantity, \"selling_price\": 0, \"purchase_price\": 0}\n",
        "\n",
        "    for product in list_products:\n",
        "        if product[\"name\"] == x_name:\n",
        "            sale[\"selling_price\"] = product.get(\"selling_price\", 0)\n",
        "            sale[\"purchase_price\"] = product.get(\"purchase_price\", 0)\n",
        "            break\n",
        "\n",
        "    list_sales.append(sale)"
      ],
      "metadata": {
        "id": "yTtWpYr7L5Qt"
      },
      "execution_count": null,
      "outputs": []
    },
    {
      "cell_type": "markdown",
      "source": [
        "**FUNZIONE PER IL CALCOLO DEI PROFITTI LORDI**"
      ],
      "metadata": {
        "id": "kBb7OaTN8aAi"
      }
    },
    {
      "cell_type": "code",
      "source": [
        "def gross_net_profit():\n",
        "    gross_profit_total = 0\n",
        "    IVA = 0.22\n",
        "\n",
        "    for product in list_sales:\n",
        "        selling_price = product.get('selling_price', 0)\n",
        "        purchase_price = product.get('purchase_price', 0)\n",
        "\n",
        "        gross_profit_index = product['quantity'] * (selling_price - purchase_price)\n",
        "        gross_profit_total += gross_profit_index\n",
        "\n",
        "    print(f'Total Gross Profit: {gross_profit_total}')\n",
        "    print(\"\\n\")\n",
        "\n",
        "    gross_profit_total = float(gross_profit_total)\n",
        "\n",
        "    IVA = gross_profit_total * IVA\n",
        "    net_profit_total = gross_profit_total - IVA\n",
        "\n",
        "    print(f'Total net profit: {net_profit_total} with a IVA of 22%' )\n",
        "    print(\"\\n\")\n",
        "\n",
        "    input_menu()"
      ],
      "metadata": {
        "id": "t6nChv3f8alu"
      },
      "execution_count": null,
      "outputs": []
    },
    {
      "cell_type": "markdown",
      "source": [
        "**funzione uscita del programma**"
      ],
      "metadata": {
        "id": "gqbv_zua8e0N"
      }
    },
    {
      "cell_type": "code",
      "source": [
        "def exit_program():\n",
        "    save_file_warehouse(list_products, file_path)\n",
        "    print(\"The program is finished\")"
      ],
      "metadata": {
        "id": "UvjLoaDC8dAW"
      },
      "execution_count": null,
      "outputs": []
    },
    {
      "cell_type": "markdown",
      "source": [
        "**FUNZIONE PER MOSTRARE UN MENU DI AIUTO CON I COMANDI DISPONIBILI**\n"
      ],
      "metadata": {
        "id": "fr-1_g6s8lsF"
      }
    },
    {
      "cell_type": "code",
      "source": [
        "def input_menu():\n",
        "\n",
        "    y = \"y\"\n",
        "    n = 'n'\n",
        "    add_product = 1\n",
        "    list_of_product = 2\n",
        "    sale_product = 3\n",
        "    profits = 4\n",
        "    help_menu = 5\n",
        "    close_program = 6\n",
        "\n",
        "    print('Enter the number corresponding to the action you want to perform. \\n Add a new product: 1 '\\\n",
        "          '\\n See the products in the warehouse: 2 '\\\n",
        "         '\\n Record a new sale made: 3'\\\n",
        "         '\\n See gross and net profit: 4'\\\n",
        "         '\\n Check the help menu: 5'\\\n",
        "         '\\n Close the program: 6')\n",
        "    print(\"\\n\")\n",
        "    while True:\n",
        "        try:\n",
        "            user_input = int(input(\"Enter the number corresponding to the action you want to perform: \"))\n",
        "            if user_input < 1 or user_input > 6:\n",
        "                print('Please enter the number corresponding to the action you want to perform. \\n Add a new product: 1 '\\\n",
        "                     '\\n See the products in the warehouse: 2 '\\\n",
        "                     '\\n Record a new sale made: 3'\\\n",
        "                     '\\n See gross and net profit: 4'\\\n",
        "                     '\\n Check the help menu: 5'\\\n",
        "                     '\\n Close the program: 6')\n",
        "\n",
        "            else:\n",
        "                break\n",
        "        except ValueError:\n",
        "                print(\"'Please enter the number corresponding to the action you want to perform.\")\n",
        "\n",
        "    print(\"\\n\")\n",
        "    if user_input == 1:\n",
        "        input_new_product()\n",
        "\n",
        "    if user_input == 2:\n",
        "        show_products_in_warehouse()\n",
        "\n",
        "    if user_input == 3:\n",
        "        input_selled_products()\n",
        "\n",
        "    if user_input == 4:\n",
        "        gross_net_profit()\n",
        "\n",
        "    if user_input == 5:\n",
        "        input_menu()\n",
        "\n",
        "    if user_input == 6:\n",
        "        exit_program()"
      ],
      "metadata": {
        "id": "2GiRe2Ou8grQ"
      },
      "execution_count": null,
      "outputs": []
    },
    {
      "cell_type": "code",
      "source": [
        "input_menu()"
      ],
      "metadata": {
        "colab": {
          "base_uri": "https://localhost:8080/"
        },
        "id": "ushMyAqr8wKU",
        "outputId": "fcb562bf-ad3b-4b83-bbb9-f968a01c72c5"
      },
      "execution_count": null,
      "outputs": [
        {
          "output_type": "stream",
          "name": "stdout",
          "text": [
            "Enter the number corresponding to the action you want to perform. \n",
            " Add a new product: 1 \n",
            " See the products in the warehouse: 2 \n",
            " Record a new sale made: 3\n",
            " See gross and net profit: 4\n",
            " Check the help menu: 5\n",
            " Close the program: 6\n",
            "\n",
            "\n"
          ]
        }
      ]
    },
    {
      "cell_type": "code",
      "source": [],
      "metadata": {
        "id": "y9FWF3kG8xhW"
      },
      "execution_count": null,
      "outputs": []
    }
  ]
}